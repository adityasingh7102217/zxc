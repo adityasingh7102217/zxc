{
 "cells": [
  {
   "cell_type": "code",
   "execution_count": 1,
   "id": "b6619570-466a-457b-a3a0-4c8f31fb1e7b",
   "metadata": {},
   "outputs": [],
   "source": [
    "import pandas as pd\n",
    "import numpy as np"
   ]
  },
  {
   "cell_type": "code",
   "execution_count": 2,
   "id": "33f8b257-964e-4555-931d-b0fa0a9f01d5",
   "metadata": {},
   "outputs": [],
   "source": [
    "df=pd.read_csv(\"melbourne.csv\")"
   ]
  },
  {
   "cell_type": "code",
   "execution_count": 3,
   "id": "392ce837-2e13-4623-b2d4-8d73618cf8f1",
   "metadata": {},
   "outputs": [
    {
     "data": {
      "text/html": [
       "<div>\n",
       "<style scoped>\n",
       "    .dataframe tbody tr th:only-of-type {\n",
       "        vertical-align: middle;\n",
       "    }\n",
       "\n",
       "    .dataframe tbody tr th {\n",
       "        vertical-align: top;\n",
       "    }\n",
       "\n",
       "    .dataframe thead th {\n",
       "        text-align: right;\n",
       "    }\n",
       "</style>\n",
       "<table border=\"1\" class=\"dataframe\">\n",
       "  <thead>\n",
       "    <tr style=\"text-align: right;\">\n",
       "      <th></th>\n",
       "      <th>Suburb</th>\n",
       "      <th>Address</th>\n",
       "      <th>Rooms</th>\n",
       "      <th>Type</th>\n",
       "      <th>Price</th>\n",
       "      <th>Method</th>\n",
       "      <th>SellerG</th>\n",
       "      <th>Date</th>\n",
       "      <th>Distance</th>\n",
       "      <th>Postcode</th>\n",
       "      <th>...</th>\n",
       "      <th>Bathroom</th>\n",
       "      <th>Car</th>\n",
       "      <th>Landsize</th>\n",
       "      <th>BuildingArea</th>\n",
       "      <th>YearBuilt</th>\n",
       "      <th>CouncilArea</th>\n",
       "      <th>Lattitude</th>\n",
       "      <th>Longtitude</th>\n",
       "      <th>Regionname</th>\n",
       "      <th>Propertycount</th>\n",
       "    </tr>\n",
       "  </thead>\n",
       "  <tbody>\n",
       "    <tr>\n",
       "      <th>0</th>\n",
       "      <td>Abbotsford</td>\n",
       "      <td>68 Studley St</td>\n",
       "      <td>2</td>\n",
       "      <td>h</td>\n",
       "      <td>NaN</td>\n",
       "      <td>SS</td>\n",
       "      <td>Jellis</td>\n",
       "      <td>03-09-2016</td>\n",
       "      <td>2.5</td>\n",
       "      <td>3067.0</td>\n",
       "      <td>...</td>\n",
       "      <td>1.0</td>\n",
       "      <td>1.0</td>\n",
       "      <td>126.0</td>\n",
       "      <td>NaN</td>\n",
       "      <td>NaN</td>\n",
       "      <td>Yarra</td>\n",
       "      <td>-37.8014</td>\n",
       "      <td>144.9958</td>\n",
       "      <td>Northern Metropolitan</td>\n",
       "      <td>4019.0</td>\n",
       "    </tr>\n",
       "    <tr>\n",
       "      <th>1</th>\n",
       "      <td>Abbotsford</td>\n",
       "      <td>85 Turner St</td>\n",
       "      <td>2</td>\n",
       "      <td>h</td>\n",
       "      <td>1480000.0</td>\n",
       "      <td>S</td>\n",
       "      <td>Biggin</td>\n",
       "      <td>03-12-2016</td>\n",
       "      <td>2.5</td>\n",
       "      <td>3067.0</td>\n",
       "      <td>...</td>\n",
       "      <td>1.0</td>\n",
       "      <td>1.0</td>\n",
       "      <td>202.0</td>\n",
       "      <td>NaN</td>\n",
       "      <td>NaN</td>\n",
       "      <td>Yarra</td>\n",
       "      <td>-37.7996</td>\n",
       "      <td>144.9984</td>\n",
       "      <td>Northern Metropolitan</td>\n",
       "      <td>4019.0</td>\n",
       "    </tr>\n",
       "    <tr>\n",
       "      <th>2</th>\n",
       "      <td>Abbotsford</td>\n",
       "      <td>25 Bloomburg St</td>\n",
       "      <td>2</td>\n",
       "      <td>h</td>\n",
       "      <td>1035000.0</td>\n",
       "      <td>S</td>\n",
       "      <td>Biggin</td>\n",
       "      <td>04-02-2016</td>\n",
       "      <td>2.5</td>\n",
       "      <td>3067.0</td>\n",
       "      <td>...</td>\n",
       "      <td>1.0</td>\n",
       "      <td>0.0</td>\n",
       "      <td>156.0</td>\n",
       "      <td>79.0</td>\n",
       "      <td>1900.0</td>\n",
       "      <td>Yarra</td>\n",
       "      <td>-37.8079</td>\n",
       "      <td>144.9934</td>\n",
       "      <td>Northern Metropolitan</td>\n",
       "      <td>4019.0</td>\n",
       "    </tr>\n",
       "    <tr>\n",
       "      <th>3</th>\n",
       "      <td>Abbotsford</td>\n",
       "      <td>18/659 Victoria St</td>\n",
       "      <td>3</td>\n",
       "      <td>u</td>\n",
       "      <td>NaN</td>\n",
       "      <td>VB</td>\n",
       "      <td>Rounds</td>\n",
       "      <td>04-02-2016</td>\n",
       "      <td>2.5</td>\n",
       "      <td>3067.0</td>\n",
       "      <td>...</td>\n",
       "      <td>2.0</td>\n",
       "      <td>1.0</td>\n",
       "      <td>0.0</td>\n",
       "      <td>NaN</td>\n",
       "      <td>NaN</td>\n",
       "      <td>Yarra</td>\n",
       "      <td>-37.8114</td>\n",
       "      <td>145.0116</td>\n",
       "      <td>Northern Metropolitan</td>\n",
       "      <td>4019.0</td>\n",
       "    </tr>\n",
       "    <tr>\n",
       "      <th>4</th>\n",
       "      <td>Abbotsford</td>\n",
       "      <td>5 Charles St</td>\n",
       "      <td>3</td>\n",
       "      <td>h</td>\n",
       "      <td>1465000.0</td>\n",
       "      <td>SP</td>\n",
       "      <td>Biggin</td>\n",
       "      <td>04-03-2017</td>\n",
       "      <td>2.5</td>\n",
       "      <td>3067.0</td>\n",
       "      <td>...</td>\n",
       "      <td>2.0</td>\n",
       "      <td>0.0</td>\n",
       "      <td>134.0</td>\n",
       "      <td>150.0</td>\n",
       "      <td>1900.0</td>\n",
       "      <td>Yarra</td>\n",
       "      <td>-37.8093</td>\n",
       "      <td>144.9944</td>\n",
       "      <td>Northern Metropolitan</td>\n",
       "      <td>4019.0</td>\n",
       "    </tr>\n",
       "  </tbody>\n",
       "</table>\n",
       "<p>5 rows × 21 columns</p>\n",
       "</div>"
      ],
      "text/plain": [
       "       Suburb             Address  Rooms Type      Price Method SellerG  \\\n",
       "0  Abbotsford       68 Studley St      2    h        NaN     SS  Jellis   \n",
       "1  Abbotsford        85 Turner St      2    h  1480000.0      S  Biggin   \n",
       "2  Abbotsford     25 Bloomburg St      2    h  1035000.0      S  Biggin   \n",
       "3  Abbotsford  18/659 Victoria St      3    u        NaN     VB  Rounds   \n",
       "4  Abbotsford        5 Charles St      3    h  1465000.0     SP  Biggin   \n",
       "\n",
       "         Date  Distance  Postcode  ...  Bathroom  Car  Landsize  BuildingArea  \\\n",
       "0  03-09-2016       2.5    3067.0  ...       1.0  1.0     126.0           NaN   \n",
       "1  03-12-2016       2.5    3067.0  ...       1.0  1.0     202.0           NaN   \n",
       "2  04-02-2016       2.5    3067.0  ...       1.0  0.0     156.0          79.0   \n",
       "3  04-02-2016       2.5    3067.0  ...       2.0  1.0       0.0           NaN   \n",
       "4  04-03-2017       2.5    3067.0  ...       2.0  0.0     134.0         150.0   \n",
       "\n",
       "   YearBuilt  CouncilArea Lattitude  Longtitude             Regionname  \\\n",
       "0        NaN        Yarra  -37.8014    144.9958  Northern Metropolitan   \n",
       "1        NaN        Yarra  -37.7996    144.9984  Northern Metropolitan   \n",
       "2     1900.0        Yarra  -37.8079    144.9934  Northern Metropolitan   \n",
       "3        NaN        Yarra  -37.8114    145.0116  Northern Metropolitan   \n",
       "4     1900.0        Yarra  -37.8093    144.9944  Northern Metropolitan   \n",
       "\n",
       "  Propertycount  \n",
       "0        4019.0  \n",
       "1        4019.0  \n",
       "2        4019.0  \n",
       "3        4019.0  \n",
       "4        4019.0  \n",
       "\n",
       "[5 rows x 21 columns]"
      ]
     },
     "execution_count": 3,
     "metadata": {},
     "output_type": "execute_result"
    }
   ],
   "source": [
    "df.head()"
   ]
  },
  {
   "cell_type": "code",
   "execution_count": 4,
   "id": "38babee1-5861-4f0b-9823-e804dc19c799",
   "metadata": {},
   "outputs": [
    {
     "name": "stdout",
     "output_type": "stream",
     "text": [
      "<class 'pandas.core.frame.DataFrame'>\n",
      "RangeIndex: 23547 entries, 0 to 23546\n",
      "Data columns (total 21 columns):\n",
      " #   Column         Non-Null Count  Dtype  \n",
      "---  ------         --------------  -----  \n",
      " 0   Suburb         23547 non-null  object \n",
      " 1   Address        23547 non-null  object \n",
      " 2   Rooms          23547 non-null  int64  \n",
      " 3   Type           23547 non-null  object \n",
      " 4   Price          18396 non-null  float64\n",
      " 5   Method         23547 non-null  object \n",
      " 6   SellerG        23547 non-null  object \n",
      " 7   Date           23547 non-null  object \n",
      " 8   Distance       23546 non-null  float64\n",
      " 9   Postcode       23546 non-null  float64\n",
      " 10  Bedroom2       19066 non-null  float64\n",
      " 11  Bathroom       19063 non-null  float64\n",
      " 12  Car            18921 non-null  float64\n",
      " 13  Landsize       17410 non-null  float64\n",
      " 14  BuildingArea   10018 non-null  float64\n",
      " 15  YearBuilt      11540 non-null  float64\n",
      " 16  CouncilArea    15656 non-null  object \n",
      " 17  Lattitude      19243 non-null  float64\n",
      " 18  Longtitude     19243 non-null  float64\n",
      " 19  Regionname     23546 non-null  object \n",
      " 20  Propertycount  23546 non-null  float64\n",
      "dtypes: float64(12), int64(1), object(8)\n",
      "memory usage: 3.8+ MB\n"
     ]
    }
   ],
   "source": [
    "df.info()"
   ]
  },
  {
   "cell_type": "code",
   "execution_count": 6,
   "id": "55f2c5d2-ddf5-4a29-8b73-299dbd2c87c7",
   "metadata": {},
   "outputs": [
    {
     "data": {
      "text/html": [
       "<div>\n",
       "<style scoped>\n",
       "    .dataframe tbody tr th:only-of-type {\n",
       "        vertical-align: middle;\n",
       "    }\n",
       "\n",
       "    .dataframe tbody tr th {\n",
       "        vertical-align: top;\n",
       "    }\n",
       "\n",
       "    .dataframe thead th {\n",
       "        text-align: right;\n",
       "    }\n",
       "</style>\n",
       "<table border=\"1\" class=\"dataframe\">\n",
       "  <thead>\n",
       "    <tr style=\"text-align: right;\">\n",
       "      <th></th>\n",
       "      <th>Rooms</th>\n",
       "      <th>Price</th>\n",
       "      <th>Distance</th>\n",
       "      <th>Postcode</th>\n",
       "      <th>Bedroom2</th>\n",
       "      <th>Bathroom</th>\n",
       "      <th>Car</th>\n",
       "      <th>Landsize</th>\n",
       "      <th>BuildingArea</th>\n",
       "      <th>YearBuilt</th>\n",
       "      <th>Lattitude</th>\n",
       "      <th>Longtitude</th>\n",
       "      <th>Propertycount</th>\n",
       "    </tr>\n",
       "  </thead>\n",
       "  <tbody>\n",
       "    <tr>\n",
       "      <th>count</th>\n",
       "      <td>23547.000000</td>\n",
       "      <td>1.839600e+04</td>\n",
       "      <td>23546.000000</td>\n",
       "      <td>23546.000000</td>\n",
       "      <td>19066.000000</td>\n",
       "      <td>19063.000000</td>\n",
       "      <td>18921.000000</td>\n",
       "      <td>17410.000000</td>\n",
       "      <td>10018.000000</td>\n",
       "      <td>11540.000000</td>\n",
       "      <td>19243.000000</td>\n",
       "      <td>19243.000000</td>\n",
       "      <td>23546.000000</td>\n",
       "    </tr>\n",
       "    <tr>\n",
       "      <th>mean</th>\n",
       "      <td>2.976048</td>\n",
       "      <td>1.056697e+06</td>\n",
       "      <td>10.306515</td>\n",
       "      <td>3109.782893</td>\n",
       "      <td>2.951956</td>\n",
       "      <td>1.570897</td>\n",
       "      <td>1.626235</td>\n",
       "      <td>551.783458</td>\n",
       "      <td>154.527895</td>\n",
       "      <td>1964.636742</td>\n",
       "      <td>-37.812434</td>\n",
       "      <td>145.000287</td>\n",
       "      <td>7517.480591</td>\n",
       "    </tr>\n",
       "    <tr>\n",
       "      <th>std</th>\n",
       "      <td>0.974501</td>\n",
       "      <td>6.419217e+05</td>\n",
       "      <td>6.016318</td>\n",
       "      <td>94.522190</td>\n",
       "      <td>0.996032</td>\n",
       "      <td>0.712684</td>\n",
       "      <td>0.974048</td>\n",
       "      <td>3544.288014</td>\n",
       "      <td>462.535765</td>\n",
       "      <td>37.595504</td>\n",
       "      <td>0.079926</td>\n",
       "      <td>0.106071</td>\n",
       "      <td>4414.995634</td>\n",
       "    </tr>\n",
       "    <tr>\n",
       "      <th>min</th>\n",
       "      <td>1.000000</td>\n",
       "      <td>8.500000e+04</td>\n",
       "      <td>0.000000</td>\n",
       "      <td>3000.000000</td>\n",
       "      <td>0.000000</td>\n",
       "      <td>0.000000</td>\n",
       "      <td>0.000000</td>\n",
       "      <td>0.000000</td>\n",
       "      <td>0.000000</td>\n",
       "      <td>1196.000000</td>\n",
       "      <td>-38.184180</td>\n",
       "      <td>144.431620</td>\n",
       "      <td>129.000000</td>\n",
       "    </tr>\n",
       "    <tr>\n",
       "      <th>25%</th>\n",
       "      <td>2.000000</td>\n",
       "      <td>6.330000e+05</td>\n",
       "      <td>6.200000</td>\n",
       "      <td>3047.000000</td>\n",
       "      <td>2.000000</td>\n",
       "      <td>1.000000</td>\n",
       "      <td>1.000000</td>\n",
       "      <td>181.000000</td>\n",
       "      <td>95.000000</td>\n",
       "      <td>1940.000000</td>\n",
       "      <td>-37.859300</td>\n",
       "      <td>144.939300</td>\n",
       "      <td>4385.000000</td>\n",
       "    </tr>\n",
       "    <tr>\n",
       "      <th>50%</th>\n",
       "      <td>3.000000</td>\n",
       "      <td>8.800000e+05</td>\n",
       "      <td>9.500000</td>\n",
       "      <td>3101.000000</td>\n",
       "      <td>3.000000</td>\n",
       "      <td>1.000000</td>\n",
       "      <td>2.000000</td>\n",
       "      <td>448.000000</td>\n",
       "      <td>129.000000</td>\n",
       "      <td>1970.000000</td>\n",
       "      <td>-37.809700</td>\n",
       "      <td>145.004300</td>\n",
       "      <td>6567.000000</td>\n",
       "    </tr>\n",
       "    <tr>\n",
       "      <th>75%</th>\n",
       "      <td>4.000000</td>\n",
       "      <td>1.302000e+06</td>\n",
       "      <td>13.000000</td>\n",
       "      <td>3150.000000</td>\n",
       "      <td>4.000000</td>\n",
       "      <td>2.000000</td>\n",
       "      <td>2.000000</td>\n",
       "      <td>656.000000</td>\n",
       "      <td>180.000000</td>\n",
       "      <td>2000.000000</td>\n",
       "      <td>-37.759800</td>\n",
       "      <td>145.063100</td>\n",
       "      <td>10331.000000</td>\n",
       "    </tr>\n",
       "    <tr>\n",
       "      <th>max</th>\n",
       "      <td>12.000000</td>\n",
       "      <td>9.000000e+06</td>\n",
       "      <td>48.100000</td>\n",
       "      <td>3978.000000</td>\n",
       "      <td>30.000000</td>\n",
       "      <td>12.000000</td>\n",
       "      <td>26.000000</td>\n",
       "      <td>433014.000000</td>\n",
       "      <td>44515.000000</td>\n",
       "      <td>2106.000000</td>\n",
       "      <td>-37.407580</td>\n",
       "      <td>145.526350</td>\n",
       "      <td>21650.000000</td>\n",
       "    </tr>\n",
       "  </tbody>\n",
       "</table>\n",
       "</div>"
      ],
      "text/plain": [
       "              Rooms         Price      Distance      Postcode      Bedroom2  \\\n",
       "count  23547.000000  1.839600e+04  23546.000000  23546.000000  19066.000000   \n",
       "mean       2.976048  1.056697e+06     10.306515   3109.782893      2.951956   \n",
       "std        0.974501  6.419217e+05      6.016318     94.522190      0.996032   \n",
       "min        1.000000  8.500000e+04      0.000000   3000.000000      0.000000   \n",
       "25%        2.000000  6.330000e+05      6.200000   3047.000000      2.000000   \n",
       "50%        3.000000  8.800000e+05      9.500000   3101.000000      3.000000   \n",
       "75%        4.000000  1.302000e+06     13.000000   3150.000000      4.000000   \n",
       "max       12.000000  9.000000e+06     48.100000   3978.000000     30.000000   \n",
       "\n",
       "           Bathroom           Car       Landsize  BuildingArea     YearBuilt  \\\n",
       "count  19063.000000  18921.000000   17410.000000  10018.000000  11540.000000   \n",
       "mean       1.570897      1.626235     551.783458    154.527895   1964.636742   \n",
       "std        0.712684      0.974048    3544.288014    462.535765     37.595504   \n",
       "min        0.000000      0.000000       0.000000      0.000000   1196.000000   \n",
       "25%        1.000000      1.000000     181.000000     95.000000   1940.000000   \n",
       "50%        1.000000      2.000000     448.000000    129.000000   1970.000000   \n",
       "75%        2.000000      2.000000     656.000000    180.000000   2000.000000   \n",
       "max       12.000000     26.000000  433014.000000  44515.000000   2106.000000   \n",
       "\n",
       "          Lattitude    Longtitude  Propertycount  \n",
       "count  19243.000000  19243.000000   23546.000000  \n",
       "mean     -37.812434    145.000287    7517.480591  \n",
       "std        0.079926      0.106071    4414.995634  \n",
       "min      -38.184180    144.431620     129.000000  \n",
       "25%      -37.859300    144.939300    4385.000000  \n",
       "50%      -37.809700    145.004300    6567.000000  \n",
       "75%      -37.759800    145.063100   10331.000000  \n",
       "max      -37.407580    145.526350   21650.000000  "
      ]
     },
     "execution_count": 6,
     "metadata": {},
     "output_type": "execute_result"
    }
   ],
   "source": [
    "df.describe()"
   ]
  },
  {
   "cell_type": "code",
   "execution_count": 8,
   "id": "7161335a-5fdd-4817-b340-9f85cabcf957",
   "metadata": {},
   "outputs": [
    {
     "data": {
      "text/plain": [
       "23547"
      ]
     },
     "execution_count": 8,
     "metadata": {},
     "output_type": "execute_result"
    }
   ],
   "source": [
    "df.shape[0]"
   ]
  },
  {
   "cell_type": "code",
   "execution_count": 9,
   "id": "a5712fe8-d600-4736-b7aa-417ca8024322",
   "metadata": {},
   "outputs": [
    {
     "data": {
      "text/plain": [
       "23547"
      ]
     },
     "execution_count": 9,
     "metadata": {},
     "output_type": "execute_result"
    }
   ],
   "source": [
    "len(df)"
   ]
  },
  {
   "cell_type": "code",
   "execution_count": 10,
   "id": "c8ad0069-d2dc-4bdc-b8d9-2d62d66e8302",
   "metadata": {},
   "outputs": [
    {
     "data": {
      "text/plain": [
       "Suburb               0\n",
       "Address              0\n",
       "Rooms                0\n",
       "Type                 0\n",
       "Price             5151\n",
       "Method               0\n",
       "SellerG              0\n",
       "Date                 0\n",
       "Distance             1\n",
       "Postcode             1\n",
       "Bedroom2          4481\n",
       "Bathroom          4484\n",
       "Car               4626\n",
       "Landsize          6137\n",
       "BuildingArea     13529\n",
       "YearBuilt        12007\n",
       "CouncilArea       7891\n",
       "Lattitude         4304\n",
       "Longtitude        4304\n",
       "Regionname           1\n",
       "Propertycount        1\n",
       "dtype: int64"
      ]
     },
     "execution_count": 10,
     "metadata": {},
     "output_type": "execute_result"
    }
   ],
   "source": [
    "df.isnull().sum()"
   ]
  },
  {
   "cell_type": "code",
   "execution_count": 12,
   "id": "87590ed5-3077-47ae-b553-a28a6d45794b",
   "metadata": {},
   "outputs": [
    {
     "name": "stdout",
     "output_type": "stream",
     "text": [
      "Suburb            0.000\n",
      "Address           0.000\n",
      "Rooms             0.000\n",
      "Type              0.000\n",
      "Price            21.875\n",
      "Method            0.000\n",
      "SellerG           0.000\n",
      "Date              0.000\n",
      "Distance          0.004\n",
      "Postcode          0.004\n",
      "Bedroom2         19.030\n",
      "Bathroom         19.043\n",
      "Car              19.646\n",
      "Landsize         26.063\n",
      "BuildingArea     57.455\n",
      "YearBuilt        50.992\n",
      "CouncilArea      33.512\n",
      "Lattitude        18.278\n",
      "Longtitude       18.278\n",
      "Regionname        0.004\n",
      "Propertycount     0.004\n",
      "dtype: float64\n"
     ]
    }
   ],
   "source": [
    "print((df.isnull().sum()/df.shape[0]*100).round(3))"
   ]
  },
  {
   "cell_type": "code",
   "execution_count": 13,
   "id": "3019b1cb-cc65-4d73-8514-fba2c7bdc29c",
   "metadata": {},
   "outputs": [],
   "source": [
    "df.drop(['BuildingArea','YearBuilt'],axis=1,inplace=True)"
   ]
  },
  {
   "cell_type": "code",
   "execution_count": 15,
   "id": "88342274-c688-4789-b54b-35a91a17e81e",
   "metadata": {},
   "outputs": [
    {
     "name": "stdout",
     "output_type": "stream",
     "text": [
      "Suburb           0.000\n",
      "Address          0.000\n",
      "Rooms            0.000\n",
      "Type             0.000\n",
      "Price            0.219\n",
      "Method           0.000\n",
      "SellerG          0.000\n",
      "Date             0.000\n",
      "Distance         0.000\n",
      "Postcode         0.000\n",
      "Bedroom2         0.190\n",
      "Bathroom         0.190\n",
      "Car              0.196\n",
      "Landsize         0.261\n",
      "CouncilArea      0.335\n",
      "Lattitude        0.183\n",
      "Longtitude       0.183\n",
      "Regionname       0.000\n",
      "Propertycount    0.000\n",
      "dtype: float64\n"
     ]
    }
   ],
   "source": [
    "print((df.isnull().sum()/df.shape[0]).round(3))"
   ]
  },
  {
   "cell_type": "code",
   "execution_count": 16,
   "id": "7496ecd9-ae1e-43f5-b2ee-8acb20174090",
   "metadata": {},
   "outputs": [],
   "source": [
    "df['Price'] = df['Price'].fillna(df['Price'].mean())"
   ]
  },
  {
   "cell_type": "code",
   "execution_count": 17,
   "id": "a828cd2c-15f4-4b3c-a7c9-6982334d0cfd",
   "metadata": {},
   "outputs": [],
   "source": [
    "df['Bedroom2'] = np.where(df['Bedroom2'].isnull(),df['Bedroom2'].median(),df['Bedroom2'])"
   ]
  },
  {
   "cell_type": "code",
   "execution_count": 18,
   "id": "b58e7b65-570b-4594-bf65-d459ecdc0c52",
   "metadata": {},
   "outputs": [],
   "source": [
    "df['Bathroom'] = df['Bathroom'].fillna(df['Bathroom'].min())"
   ]
  },
  {
   "cell_type": "code",
   "execution_count": 19,
   "id": "8e3cedde-a3f5-4fb9-a217-2577636fa152",
   "metadata": {},
   "outputs": [],
   "source": [
    "df['Car'] = df['Car'].fillna(df['Car'].min())"
   ]
  },
  {
   "cell_type": "code",
   "execution_count": 20,
   "id": "a450ed7f-2b72-4c5e-b050-f0340080b07a",
   "metadata": {},
   "outputs": [],
   "source": [
    "df['Landsize'] = df['Landsize'].fillna(df['Car'].mean())"
   ]
  },
  {
   "cell_type": "code",
   "execution_count": 21,
   "id": "925ce0ec-4fc7-4f16-b5c3-a1b077e6cb8f",
   "metadata": {},
   "outputs": [],
   "source": [
    "df['CouncilArea'] = df['CouncilArea'].fillna(df['CouncilArea'].mode()[0])"
   ]
  },
  {
   "cell_type": "code",
   "execution_count": 22,
   "id": "bd072623-4c4c-46a5-9913-4f16387c3109",
   "metadata": {},
   "outputs": [],
   "source": [
    "df['Lattitude'] = df['Lattitude'].fillna(df['Lattitude'].mode()[0])\n",
    "df['Longtitude'] = df['Longtitude'].fillna(df['Longtitude'].mode()[0])"
   ]
  },
  {
   "cell_type": "code",
   "execution_count": 24,
   "id": "ad8ae796-24f2-406d-9c45-7e85b7f0d775",
   "metadata": {},
   "outputs": [
    {
     "name": "stdout",
     "output_type": "stream",
     "text": [
      "Suburb           0.0\n",
      "Address          0.0\n",
      "Rooms            0.0\n",
      "Type             0.0\n",
      "Price            0.0\n",
      "Method           0.0\n",
      "SellerG          0.0\n",
      "Date             0.0\n",
      "Distance         0.0\n",
      "Postcode         0.0\n",
      "Bedroom2         0.0\n",
      "Bathroom         0.0\n",
      "Car              0.0\n",
      "Landsize         0.0\n",
      "CouncilArea      0.0\n",
      "Lattitude        0.0\n",
      "Longtitude       0.0\n",
      "Regionname       0.0\n",
      "Propertycount    0.0\n",
      "dtype: float64\n"
     ]
    }
   ],
   "source": [
    "print((df.isnull().sum()/df.shape[0]).round(3))"
   ]
  },
  {
   "cell_type": "code",
   "execution_count": 25,
   "id": "168e7bf0-f8e2-49c7-8a54-943b4a37b1e6",
   "metadata": {},
   "outputs": [
    {
     "data": {
      "text/plain": [
       "Suburb           0\n",
       "Address          0\n",
       "Rooms            0\n",
       "Type             0\n",
       "Price            0\n",
       "Method           0\n",
       "SellerG          0\n",
       "Date             0\n",
       "Distance         1\n",
       "Postcode         1\n",
       "Bedroom2         0\n",
       "Bathroom         0\n",
       "Car              0\n",
       "Landsize         0\n",
       "CouncilArea      0\n",
       "Lattitude        0\n",
       "Longtitude       0\n",
       "Regionname       1\n",
       "Propertycount    1\n",
       "dtype: int64"
      ]
     },
     "execution_count": 25,
     "metadata": {},
     "output_type": "execute_result"
    }
   ],
   "source": [
    "df.isnull().sum()"
   ]
  },
  {
   "cell_type": "code",
   "execution_count": 31,
   "id": "782f993e-d9ee-44a7-b6ea-9d01023e65a6",
   "metadata": {},
   "outputs": [],
   "source": [
    "df.dropna(inplace=True)"
   ]
  },
  {
   "cell_type": "code",
   "execution_count": 32,
   "id": "bf4abc17-7e8b-485f-bb5d-13c5a9633a61",
   "metadata": {},
   "outputs": [
    {
     "data": {
      "text/plain": [
       "Suburb           0\n",
       "Address          0\n",
       "Rooms            0\n",
       "Type             0\n",
       "Price            0\n",
       "Method           0\n",
       "SellerG          0\n",
       "Date             0\n",
       "Distance         0\n",
       "Postcode         0\n",
       "Bedroom2         0\n",
       "Bathroom         0\n",
       "Car              0\n",
       "Landsize         0\n",
       "CouncilArea      0\n",
       "Lattitude        0\n",
       "Longtitude       0\n",
       "Regionname       0\n",
       "Propertycount    0\n",
       "dtype: int64"
      ]
     },
     "execution_count": 32,
     "metadata": {},
     "output_type": "execute_result"
    }
   ],
   "source": [
    "df.isnull().sum()"
   ]
  },
  {
   "cell_type": "markdown",
   "id": "e0772c84-357b-4a38-be26-5611b2ffff62",
   "metadata": {},
   "source": []
  },
  {
   "cell_type": "code",
   "execution_count": 39,
   "id": "375b67d1-3e3a-4579-8660-24d3c88db316",
   "metadata": {},
   "outputs": [],
   "source": [
    "df=pd.read_csv(\"melbourne.csv\")"
   ]
  },
  {
   "cell_type": "code",
   "execution_count": 40,
   "id": "b6e6d365-1e0b-45eb-a53a-37c9025221de",
   "metadata": {},
   "outputs": [
    {
     "data": {
      "text/plain": [
       "Suburb               0\n",
       "Address              0\n",
       "Rooms                0\n",
       "Type                 0\n",
       "Price             5151\n",
       "Method               0\n",
       "SellerG              0\n",
       "Date                 0\n",
       "Distance             1\n",
       "Postcode             1\n",
       "Bedroom2          4481\n",
       "Bathroom          4484\n",
       "Car               4626\n",
       "Landsize          6137\n",
       "BuildingArea     13529\n",
       "YearBuilt        12007\n",
       "CouncilArea       7891\n",
       "Lattitude         4304\n",
       "Longtitude        4304\n",
       "Regionname           1\n",
       "Propertycount        1\n",
       "dtype: int64"
      ]
     },
     "execution_count": 40,
     "metadata": {},
     "output_type": "execute_result"
    }
   ],
   "source": [
    "df.isnull().sum()"
   ]
  },
  {
   "cell_type": "code",
   "execution_count": 41,
   "id": "671c8126-73d9-4f00-93ca-706a7bb87a9d",
   "metadata": {},
   "outputs": [],
   "source": [
    "df.dropna(subset=['Distance','Postcode'],inplace=True)"
   ]
  },
  {
   "cell_type": "code",
   "execution_count": 42,
   "id": "bf6124d2-95a2-4edc-87c2-9d5ea9908f08",
   "metadata": {},
   "outputs": [
    {
     "data": {
      "text/plain": [
       "Suburb               0\n",
       "Address              0\n",
       "Rooms                0\n",
       "Type                 0\n",
       "Price             5151\n",
       "Method               0\n",
       "SellerG              0\n",
       "Date                 0\n",
       "Distance             0\n",
       "Postcode             0\n",
       "Bedroom2          4480\n",
       "Bathroom          4483\n",
       "Car               4625\n",
       "Landsize          6136\n",
       "BuildingArea     13528\n",
       "YearBuilt        12006\n",
       "CouncilArea       7890\n",
       "Lattitude         4303\n",
       "Longtitude        4303\n",
       "Regionname           0\n",
       "Propertycount        0\n",
       "dtype: int64"
      ]
     },
     "execution_count": 42,
     "metadata": {},
     "output_type": "execute_result"
    }
   ],
   "source": [
    "df.isnull().sum()"
   ]
  },
  {
   "cell_type": "code",
   "execution_count": null,
   "id": "649c4775-dbce-4064-8259-2f5b3aac30dc",
   "metadata": {},
   "outputs": [],
   "source": []
  }
 ],
 "metadata": {
  "kernelspec": {
   "display_name": "Python 3 (Anaconda)",
   "language": "python",
   "name": "python3"
  },
  "language_info": {
   "codemirror_mode": {
    "name": "ipython",
    "version": 3
   },
   "file_extension": ".py",
   "mimetype": "text/x-python",
   "name": "python",
   "nbconvert_exporter": "python",
   "pygments_lexer": "ipython3",
   "version": "3.12.3"
  }
 },
 "nbformat": 4,
 "nbformat_minor": 5
}
